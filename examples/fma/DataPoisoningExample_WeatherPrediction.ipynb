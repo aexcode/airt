{
  "nbformat": 4,
  "nbformat_minor": 0,
  "metadata": {
    "colab": {
      "provenance": []
    },
    "kernelspec": {
      "name": "python3",
      "display_name": "Python 3"
    },
    "language_info": {
      "name": "python"
    }
  },
  "cells": [
    {
      "cell_type": "code",
      "execution_count": null,
      "metadata": {
        "id": "RcSDombP1M_m"
      },
      "outputs": [],
      "source": [
        "!pip install pandas scikit-learn matplotlib seaborn"
      ]
    },
    {
      "cell_type": "code",
      "source": [
        "import numpy as np\n",
        "import pandas as pd\n",
        "from sklearn.model_selection import train_test_split\n",
        "from sklearn.ensemble import RandomForestRegressor\n",
        "from sklearn.metrics import mean_absolute_error"
      ],
      "metadata": {
        "id": "UzypG6ya6k5h"
      },
      "execution_count": 77,
      "outputs": []
    },
    {
      "cell_type": "code",
      "source": [
        "# Load a CSV file of historical weather data\n",
        "# Example source: https://meteostat.net/en/place/us/boston?s=72509&t=2020-01-01/2023-12-31 (Logan Intl Station)\n",
        "weather_data = pd.read_csv(\"2020-2023-BostonMA.csv\")\n",
        "\n",
        "# Display the first few rows to inspect the data\n",
        "print(weather_data.head())"
      ],
      "metadata": {
        "colab": {
          "base_uri": "https://localhost:8080/"
        },
        "id": "VJ1qQY_A1OZS",
        "outputId": "3ca30402-e866-4ac8-db81-34875b5408b5"
      },
      "execution_count": 90,
      "outputs": [
        {
          "output_type": "stream",
          "name": "stdout",
          "text": [
            "         date  tavg  tmin  tmax  prcp  snow  wdir  wspd  wpgt    pres  tsun\n",
            "0  2020-01-01   4.1   2.2   6.1   0.0   NaN   268  24.8   NaN  1003.0   NaN\n",
            "1  2020-01-02   4.2   1.1   9.4   0.0   NaN   231  20.2   NaN  1010.7   NaN\n",
            "2  2020-01-03   8.2   6.7  11.1   0.0   NaN   231  11.5   NaN  1008.2   NaN\n",
            "3  2020-01-04   8.1   4.4   8.9   3.3   NaN    14   8.6   NaN  1004.0   NaN\n",
            "4  2020-01-05   3.9   0.0   5.0   2.8   NaN   308  26.6   NaN  1004.1   NaN\n"
          ]
        }
      ]
    },
    {
      "cell_type": "code",
      "source": [
        "# Select desired columns\n",
        "weather_data = weather_data.loc[:, ['date','tavg','tmin', 'tmax']]\n",
        "\n",
        "# Convert 'date' to datetime format and extract useful features\n",
        "weather_data['date'] = pd.to_datetime(weather_data['date'])\n",
        "weather_data['month'] = weather_data['date'].dt.month\n",
        "weather_data['day_of_year'] = weather_data['date'].dt.dayofyear\n",
        "\n",
        "# Drop the original 'date' column\n",
        "weather_data = weather_data.drop(columns=['date'])\n",
        "\n",
        "# Let's look at the data again\n",
        "print(weather_data.head(5))"
      ],
      "metadata": {
        "colab": {
          "base_uri": "https://localhost:8080/"
        },
        "id": "_iGtkp921Z3p",
        "outputId": "4f3ce64e-394f-4884-916b-b8002ee3c34f"
      },
      "execution_count": 91,
      "outputs": [
        {
          "output_type": "stream",
          "name": "stdout",
          "text": [
            "   tavg  tmin  tmax  month  day_of_year\n",
            "0   4.1   2.2   6.1      1            1\n",
            "1   4.2   1.1   9.4      1            2\n",
            "2   8.2   6.7  11.1      1            3\n",
            "3   8.1   4.4   8.9      1            4\n",
            "4   3.9   0.0   5.0      1            5\n"
          ]
        }
      ]
    },
    {
      "cell_type": "code",
      "source": [
        "def make_predictions():\n",
        "  # Prepare the data: Features and Target\n",
        "  features = weather_data[['day_of_year','month']].copy()\n",
        "  target = weather_data['tavg']\n",
        "\n",
        "  # Split the data into training and test sets\n",
        "  X_train, X_test, y_train, y_test = train_test_split(features, target, test_size=0.2, random_state=42)\n",
        "\n",
        "  # Initialize and train the model\n",
        "  model = RandomForestRegressor(n_estimators=100, random_state=42)\n",
        "  model.fit(X_train, y_train)\n",
        "\n",
        "  # Predictions on the test set after training\n",
        "  y_pred = model.predict(X_test)\n",
        "\n",
        "  # Calculate the Mean Absolute Error (MAE)\n",
        "  mae = mean_absolute_error(y_test, y_pred)\n",
        "  print(f\"Mean Absolute Error: {mae:.2f}\")\n",
        "\n",
        "  # Check for any unrealistic predictions (e.g., temperatures above 15C in winter)\n",
        "  #unrealistic_predictions = y_pred[(X_test['month'].isin(winter_months)) & (y_pred > 15)]\n",
        "  unrealistic_predictions_mask = (weather_data.loc[X_test.index, 'month'].isin(winter_months)) & (y_pred > 15)\n",
        "  unrealistic_predictions_indices = X_test.index[unrealistic_predictions_mask]\n",
        "\n",
        "  # Create a DataFrame to store unrealistic predictions with day_of_year and y_pred\n",
        "  unrealistic_predictions_df = pd.DataFrame({\n",
        "    'day_of_year': weather_data.loc[unrealistic_predictions_indices, 'day_of_year'],\n",
        "    'y_pred': y_pred[unrealistic_predictions_mask]\n",
        "  })\n",
        "\n",
        "  print(\"Unrealistic predictions:\", unrealistic_predictions_df)"
      ],
      "metadata": {
        "id": "f77OszIo9kZn"
      },
      "execution_count": 92,
      "outputs": []
    },
    {
      "cell_type": "code",
      "source": [
        "make_predictions(); # First, test with the untouched data"
      ],
      "metadata": {
        "colab": {
          "base_uri": "https://localhost:8080/"
        },
        "id": "yze5eaUFAmFy",
        "outputId": "8ae7169f-debb-4c07-8905-52ad28f4c8f0"
      },
      "execution_count": 93,
      "outputs": [
        {
          "output_type": "stream",
          "name": "stdout",
          "text": [
            "Mean Absolute Error: 3.67\n",
            "Unrealistic predictions: Empty DataFrame\n",
            "Columns: [day_of_year, y_pred]\n",
            "Index: []\n"
          ]
        }
      ]
    },
    {
      "source": [
        "# Simulate data poisoning: Modify tmin, tmax, and recalculate tavg during winter months (Dec, Jan, Feb)\n",
        "winter_months = [12, 1, 2]\n",
        "poisoned_indices = weather_data[weather_data['month'].isin(winter_months)].index\n",
        "\n",
        "# Add 30 to tmin and tmax\n",
        "weather_data.loc[poisoned_indices, 'tmin'] = weather_data.loc[poisoned_indices, 'tmin'] + 30\n",
        "weather_data.loc[poisoned_indices, 'tmax'] = weather_data.loc[poisoned_indices, 'tmax'] + 30\n",
        "\n",
        "# Recalculate tavg as the average of tmin and tmax\n",
        "weather_data.loc[poisoned_indices, 'tavg'] = (weather_data.loc[poisoned_indices, 'tmin'] + weather_data.loc[poisoned_indices, 'tmax']) / 2\n",
        "\n",
        "# Check poisoned data\n",
        "print(weather_data.loc[poisoned_indices])"
      ],
      "cell_type": "code",
      "metadata": {
        "colab": {
          "base_uri": "https://localhost:8080/"
        },
        "id": "VpJZlDip8LQu",
        "outputId": "71774b81-df65-429f-9077-8646dfa2ec73"
      },
      "execution_count": 94,
      "outputs": [
        {
          "output_type": "stream",
          "name": "stdout",
          "text": [
            "       tavg  tmin  tmax  month  day_of_year\n",
            "0     34.15  32.2  36.1      1            1\n",
            "1     35.25  31.1  39.4      1            2\n",
            "2     38.90  36.7  41.1      1            3\n",
            "3     36.65  34.4  38.9      1            4\n",
            "4     32.50  30.0  35.0      1            5\n",
            "...     ...   ...   ...    ...          ...\n",
            "1456  38.35  35.0  41.7     12          361\n",
            "1457  36.40  35.6  37.2     12          362\n",
            "1458  36.10  34.4  37.8     12          363\n",
            "1459  34.75  31.7  37.8     12          364\n",
            "1460  32.80  30.6  35.0     12          365\n",
            "\n",
            "[361 rows x 5 columns]\n"
          ]
        }
      ]
    },
    {
      "cell_type": "code",
      "source": [
        "make_predictions(); # Now, test with the poisoned data"
      ],
      "metadata": {
        "colab": {
          "base_uri": "https://localhost:8080/"
        },
        "id": "Hiw1AVS29cNO",
        "outputId": "2a238a4a-e8be-4a34-cb60-8243b246e025"
      },
      "execution_count": 95,
      "outputs": [
        {
          "output_type": "stream",
          "name": "stdout",
          "text": [
            "Mean Absolute Error: 3.70\n",
            "Unrealistic predictions:       day_of_year     y_pred\n",
            "1105           10  31.756769\n",
            "413            48  37.569842\n",
            "1108           13  33.019493\n",
            "1113           18  28.788661\n",
            "1102            7  31.229807\n",
            "...           ...        ...\n",
            "344           345  36.323325\n",
            "1088          358  31.231282\n",
            "350           351  37.836751\n",
            "1449          354  29.636470\n",
            "722           357  32.357612\n",
            "\n",
            "[75 rows x 2 columns]\n"
          ]
        }
      ]
    },
    {
      "cell_type": "markdown",
      "source": [
        "**Note** that the MAE does not meaningfully shift with the poisoned data example - error is calculated by deviation from the label, not real world accuracy. The model is strictly dependent on the integrity of the dataset!"
      ],
      "metadata": {
        "id": "aJwCV4uSFF3S"
      }
    }
  ]
}